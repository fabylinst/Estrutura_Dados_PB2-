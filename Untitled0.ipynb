{
  "nbformat": 4,
  "nbformat_minor": 0,
  "metadata": {
    "colab": {
      "provenance": [],
      "authorship_tag": "ABX9TyO3ecS7Nen1VUJSwwEzQ69A",
      "include_colab_link": true
    },
    "kernelspec": {
      "name": "python3",
      "display_name": "Python 3"
    },
    "language_info": {
      "name": "python"
    }
  },
  "cells": [
    {
      "cell_type": "markdown",
      "metadata": {
        "id": "view-in-github",
        "colab_type": "text"
      },
      "source": [
        "<a href=\"https://colab.research.google.com/github/fabylinst/Estrutura_Dados_PB2-/blob/main/Untitled0.ipynb\" target=\"_parent\"><img src=\"https://colab.research.google.com/assets/colab-badge.svg\" alt=\"Open In Colab\"/></a>"
      ]
    },
    {
      "cell_type": "code",
      "execution_count": 10,
      "metadata": {
        "colab": {
          "base_uri": "https://localhost:8080/"
        },
        "id": "vroq5hK49w_R",
        "outputId": "a7955957-ac3f-4f6b-ef73-196e3349c971"
      },
      "outputs": [
        {
          "output_type": "stream",
          "name": "stdout",
          "text": [
            "[3, 4, 5, 7]\n"
          ]
        }
      ],
      "source": [
        "def selecao_ordenacao(vetor):\n",
        "    n = len(vetor)\n",
        "    for i in range(n):\n",
        "        indice_minimo = i\n",
        "        for j in range(i + 1, n):\n",
        "            if vetor[j] < vetor[indice_minimo]:\n",
        "                indice_minimo = j\n",
        "        #vetor[i], vetor[indice_minimo] = vetor[indice_minimo], vetor[i]\n",
        "        aux = vetor[i]\n",
        "        vetor[i] = vetor[indice_minimo]\n",
        "        vetor[indice_minimo] = aux\n",
        "\n",
        "vetor=[5,7,4,3]\n",
        "selecao_ordenacao(vetor)\n",
        "print(vetor)"
      ]
    },
    {
      "cell_type": "markdown",
      "source": [],
      "metadata": {
        "id": "Ky3rNlRtDnCh"
      }
    },
    {
      "cell_type": "code",
      "source": [
        "def selecao_ordenacao(vetor, ordem):\n",
        "    n = len(vetor)\n",
        "    if ordem==0:\n",
        "        for i in range(n):\n",
        "            indice_minimo = i\n",
        "            for j in range(i + 1, n):\n",
        "                if vetor[j] < vetor[indice_minimo]:\n",
        "                    indice_minimo = j\n",
        "            vetor[i], vetor[indice_minimo] = vetor[indice_minimo], vetor[i]\n",
        "    else:\n",
        "        for i in range(n):\n",
        "            indice_minimo = i\n",
        "            for j in range(i + 1, n):\n",
        "                if vetor[j] > vetor[indice_minimo]:\n",
        "                    indice_minimo = j\n",
        "            vetor[i], vetor[indice_minimo] = vetor[indice_minimo], vetor[i]\n",
        "\n",
        "vetor=[5,7,4,3]\n",
        "selecao_ordenacao(vetor,0)\n",
        "print(vetor)\n",
        "selecao_ordenacao(vetor,1)\n",
        "print(vetor)"
      ],
      "metadata": {
        "colab": {
          "base_uri": "https://localhost:8080/"
        },
        "id": "S6vREdFUDn9h",
        "outputId": "11d874cc-7066-4e4c-897f-d265db3d60d9"
      },
      "execution_count": 9,
      "outputs": [
        {
          "output_type": "stream",
          "name": "stdout",
          "text": [
            "[3, 4, 5, 7]\n",
            "[7, 5, 4, 3]\n"
          ]
        }
      ]
    },
    {
      "cell_type": "code",
      "source": [
        "def encontrar_maximo(vetor):\n",
        "    maximo = vetor[0]\n",
        "    for elemento in vetor:\n",
        "        if elemento > maximo:\n",
        "            maximo = elemento\n",
        "    return maximo\n",
        "\n",
        "def encontrar_minimo(vetor):\n",
        "    minimo = vetor[0]\n",
        "    for elemento in vetor:\n",
        "        if elemento < minimo:\n",
        "            minimo = elemento\n",
        "    return minimo\n",
        "\n",
        "def encontrar_max_min(vetor):\n",
        "    minimo = vetor[0]\n",
        "    maximo = vetor[0]\n",
        "    for elemento in vetor:\n",
        "        if elemento < minimo:\n",
        "            minimo = elemento\n",
        "        if elemento > maximo:\n",
        "            maximo = elemento\n",
        "    return maximo, minimo\n",
        "\n",
        "vetor=[5,7,4,3]\n",
        "print(encontrar_maximo(vetor))\n",
        "print(encontrar_minimo(vetor))\n",
        "#resp=encontrar_max_min(vetor)\n",
        "#print(resp[0], resp[1])\n"
      ],
      "metadata": {
        "id": "i4W5rbAuFdSA"
      },
      "execution_count": null,
      "outputs": []
    },
    {
      "cell_type": "code",
      "source": [
        "def selecao_ordenacao(vetor):\n",
        "    n = len(vetor)\n",
        "    for i in range(n):\n",
        "        indice_minimo = i\n",
        "        for j in range(i + 1, n):\n",
        "            if vetor[j] < vetor[indice_minimo]:\n",
        "                indice_minimo = j\n",
        "        vetor[i], vetor[indice_minimo] = vetor[indice_minimo], vetor[i]\n",
        "\n",
        "def encontrar_segundo_menor(vetor):\n",
        "    selecao_ordenacao(vetor)\n",
        "    resp=vetor[1]\n",
        "    if vetor[0]==vetor[1]:\n",
        "        resp=vetor[2]\n",
        "    return resp\n",
        "\n",
        "vetor=[5,7,3,3]\n",
        "print(encontrar_segundo_menor(vetor))\n",
        "print(vetor)"
      ],
      "metadata": {
        "colab": {
          "base_uri": "https://localhost:8080/"
        },
        "id": "6XYKTYcbK42t",
        "outputId": "c22cafec-22fc-4426-d277-a484bee88cb4"
      },
      "execution_count": 12,
      "outputs": [
        {
          "output_type": "stream",
          "name": "stdout",
          "text": [
            "5\n",
            "[3, 3, 5, 7]\n"
          ]
        }
      ]
    },
    {
      "cell_type": "code",
      "source": [
        "def remove_duplicatas(vetor):\n",
        "    vetor_sd = []\n",
        "    for elemento in vetor:\n",
        "        if elemento not in vetor_sd:\n",
        "            vetor_sd.append(elemento)\n",
        "    return vetor_sd\n",
        "\n",
        "vetor=[5,7,4,4,7,3]\n",
        "print(vetor)\n",
        "print(remove_duplicatas(vetor))\n"
      ],
      "metadata": {
        "id": "lcm8FZo7SgpK"
      },
      "execution_count": null,
      "outputs": []
    },
    {
      "cell_type": "code",
      "source": [
        "def selecao_ordenacao(vetor):\n",
        "    n = len(vetor)\n",
        "    for i in range(n):\n",
        "        indice_minimo = i\n",
        "        for j in range(i + 1, n):\n",
        "            if vetor[j] < vetor[indice_minimo]:\n",
        "                indice_minimo = j\n",
        "        vetor[i], vetor[indice_minimo] = vetor[indice_minimo], vetor[i]\n",
        "\n",
        "def contar_par_imp(vetor):\n",
        "    n = len(vetor)\n",
        "    cp=0\n",
        "    ci=0\n",
        "    for i in range(n):\n",
        "        if (vetor[i]%2==0):\n",
        "            cp+=1\n",
        "        else:\n",
        "            ci+=1\n",
        "    return cp,ci\n",
        "\n",
        "vetor=[5,7,2,3]\n",
        "selecao_ordenacao(vetor)\n",
        "ct=contar_par_imp(vetor)\n",
        "print(ct[0],ct[1])"
      ],
      "metadata": {
        "id": "M8NvJX0VUkCD"
      },
      "execution_count": null,
      "outputs": []
    },
    {
      "cell_type": "code",
      "source": [
        "def selecao_ordenacao(vetor):\n",
        "    n = len(vetor)\n",
        "    for i in range(n):\n",
        "        indice_minimo = i\n",
        "        for j in range(i + 1, n):\n",
        "            if vetor[j] < vetor[indice_minimo]:\n",
        "                indice_minimo = j\n",
        "        vetor[i], vetor[indice_minimo] = vetor[indice_minimo], vetor[i]\n",
        "\n",
        "def encontrar_terceiro_maior(vetor):\n",
        "    selecao_ordenacao(vetor)\n",
        "    if len(vetor)<=2:\n",
        "        print('Vetor menor que 3 elementos')\n",
        "        return None\n",
        "    return vetor[2]\n",
        "\n",
        "vetor=[5,7,3]\n",
        "print(encontrar_terceiro_maior(vetor))\n",
        "print(vetor)"
      ],
      "metadata": {
        "id": "cc7pkvqgV3Vd"
      },
      "execution_count": null,
      "outputs": []
    },
    {
      "cell_type": "code",
      "source": [
        "def selecao_ordenacao(vetor):\n",
        "    n = len(vetor)\n",
        "    for i in range(n):\n",
        "        indice_minimo = i\n",
        "        for j in range(i + 1, n):\n",
        "            if vetor[j] < vetor[indice_minimo]:\n",
        "                indice_minimo = j\n",
        "        vetor[i], vetor[indice_minimo] = vetor[indice_minimo], vetor[i]\n",
        "\n",
        "def encontrar_mediana(vetor):\n",
        "    vetor_ordenado = sorted(vetor)\n",
        "    n = len(vetor_ordenado)\n",
        "    if n % 2 == 0:\n",
        "        meio1 = vetor_ordenado[n // 2 - 1]\n",
        "        meio2 = vetor_ordenado[n // 2]\n",
        "        return (meio1 + meio2) / 2\n",
        "    else:\n",
        "        return vetor_ordenado[n // 2]\n",
        "\n",
        "vetor=[5,7,3,9]\n",
        "selecao_ordenacao(vetor)\n",
        "print(encontrar_mediana(vetor))\n",
        "print(vetor)"
      ],
      "metadata": {
        "id": "DBBLn1t-V499"
      },
      "execution_count": null,
      "outputs": []
    },
    {
      "cell_type": "code",
      "source": [],
      "metadata": {
        "id": "C_SNq0xQXdiX"
      },
      "execution_count": null,
      "outputs": []
    }
  ]
}